{
  "nbformat": 4,
  "nbformat_minor": 0,
  "metadata": {
    "colab": {
      "name": "Cópia de Numpy.ipynb",
      "provenance": [],
      "include_colab_link": true
    },
    "kernelspec": {
      "name": "python3",
      "display_name": "Python 3"
    }
  },
  "cells": [
    {
      "cell_type": "markdown",
      "metadata": {
        "id": "view-in-github",
        "colab_type": "text"
      },
      "source": [
        "<a href=\"https://colab.research.google.com/github/apconrado/Projeto-Teste-Publico/blob/master/C%C3%B3pia_de_Numpy.ipynb\" target=\"_parent\"><img src=\"https://colab.research.google.com/assets/colab-badge.svg\" alt=\"Open In Colab\"/></a>"
      ]
    },
    {
      "cell_type": "markdown",
      "metadata": {
        "id": "DQH4ZHypvfCq"
      },
      "source": [
        "Começaremos a manipular nesse momento os elementos constituintes da biblioteca Numpy."
      ]
    },
    {
      "cell_type": "code",
      "metadata": {
        "id": "z1zHmok2vIB9"
      },
      "source": [
        "import numpy as np"
      ],
      "execution_count": null,
      "outputs": []
    },
    {
      "cell_type": "code",
      "metadata": {
        "id": "QMqRpAhevuG2",
        "outputId": "1ac749cd-4fb6-4132-988c-d6d6dea9f439",
        "colab": {
          "base_uri": "https://localhost:8080/",
          "height": 34
        }
      },
      "source": [
        "obj = np.array([10, 20, 30, 40, 50, 60, 70, 80])\n",
        "print(obj)"
      ],
      "execution_count": null,
      "outputs": [
        {
          "output_type": "stream",
          "text": [
            "[10 20 30 40 50 60 70 80]\n"
          ],
          "name": "stdout"
        }
      ]
    },
    {
      "cell_type": "code",
      "metadata": {
        "id": "n0LeGQBbv2u3",
        "outputId": "77a99fce-1d15-488d-e1df-e24aa64d3a6b",
        "colab": {
          "base_uri": "https://localhost:8080/",
          "height": 34
        }
      },
      "source": [
        "type(obj)"
      ],
      "execution_count": null,
      "outputs": [
        {
          "output_type": "execute_result",
          "data": {
            "text/plain": [
              "numpy.ndarray"
            ]
          },
          "metadata": {
            "tags": []
          },
          "execution_count": 4
        }
      ]
    },
    {
      "cell_type": "markdown",
      "metadata": {
        "id": "CGAGmYMCv8HH"
      },
      "source": [
        "O objeto array, compartilha das mesmas propriedades que vimos anteriormente nas listas:\n",
        "\n",
        "1. indexação\n",
        "2. Subset por indexação\n",
        "3. Filtros"
      ]
    },
    {
      "cell_type": "code",
      "metadata": {
        "id": "kCkVSEXEv7mY",
        "outputId": "a4e49894-686b-4530-a9a4-b5adffa85bfa",
        "colab": {
          "base_uri": "https://localhost:8080/",
          "height": 34
        }
      },
      "source": [
        "obj[0]"
      ],
      "execution_count": null,
      "outputs": [
        {
          "output_type": "execute_result",
          "data": {
            "text/plain": [
              "10"
            ]
          },
          "metadata": {
            "tags": []
          },
          "execution_count": 5
        }
      ]
    },
    {
      "cell_type": "code",
      "metadata": {
        "id": "Orj-j1RewLFq",
        "outputId": "ccc3885e-5037-4f1c-e4f6-686c2238db76",
        "colab": {
          "base_uri": "https://localhost:8080/",
          "height": 34
        }
      },
      "source": [
        "##Primeiros 3 elementos de um array\n",
        "\n",
        "obj[:3]"
      ],
      "execution_count": null,
      "outputs": [
        {
          "output_type": "execute_result",
          "data": {
            "text/plain": [
              "array([10, 20, 30])"
            ]
          },
          "metadata": {
            "tags": []
          },
          "execution_count": 6
        }
      ]
    },
    {
      "cell_type": "code",
      "metadata": {
        "id": "h9xQpjt3yIG1",
        "outputId": "d06d9cac-ef70-4e86-bd58-01d34e29dabb",
        "colab": {
          "base_uri": "https://localhost:8080/",
          "height": 34
        }
      },
      "source": [
        "obj[-3:]"
      ],
      "execution_count": null,
      "outputs": [
        {
          "output_type": "execute_result",
          "data": {
            "text/plain": [
              "array([60, 70, 80])"
            ]
          },
          "metadata": {
            "tags": []
          },
          "execution_count": 15
        }
      ]
    },
    {
      "cell_type": "code",
      "metadata": {
        "id": "1h9Fv70MwcXu",
        "outputId": "cbbb4436-f4f6-43d7-f2c4-6b19c0ce9a25",
        "colab": {
          "base_uri": "https://localhost:8080/",
          "height": 34
        }
      },
      "source": [
        "##Todos os elementos do Array podem ser expressos por meio de um vetor de elementos verdadeiros ou falsos\n",
        "\n",
        "obj > 30\n",
        "\n",
        "## cada elemento no array que for menor que 30, retornará como falso, se não, retorna como verdadeiro"
      ],
      "execution_count": null,
      "outputs": [
        {
          "output_type": "execute_result",
          "data": {
            "text/plain": [
              "array([False, False, False,  True,  True,  True,  True,  True])"
            ]
          },
          "metadata": {
            "tags": []
          },
          "execution_count": 7
        }
      ]
    },
    {
      "cell_type": "markdown",
      "metadata": {
        "id": "2ALNXpLXwwRc"
      },
      "source": [
        "Podemos usar essa estrutura para realizar o nosso primeiro filtro usando Numpy:"
      ]
    },
    {
      "cell_type": "code",
      "metadata": {
        "id": "xCrtpv6TwvlZ",
        "outputId": "719b6967-2788-49bb-da25-0bf6d8252bed",
        "colab": {
          "base_uri": "https://localhost:8080/",
          "height": 34
        }
      },
      "source": [
        "obj[obj > 30]\n",
        "\n",
        "##esse elemento obj quando combinado com [] (colchetes), e dentro do colchete retornar o objeto original, acrescentado de um operador lógico > (maior) e um valor (30), \n",
        "##retorna uma versão baseada no filtro que vimos no caso anterior.\n",
        "##Com isso, temos o nosso array sem os elementos que são false no caso anterior."
      ],
      "execution_count": null,
      "outputs": [
        {
          "output_type": "execute_result",
          "data": {
            "text/plain": [
              "array([40, 50, 60, 70, 80])"
            ]
          },
          "metadata": {
            "tags": []
          },
          "execution_count": 8
        }
      ]
    },
    {
      "cell_type": "markdown",
      "metadata": {
        "id": "Xs-8dHzmxtGx"
      },
      "source": [
        "Assim como no caso das listas, array também tem a propriedade de mutabilidade, basta acessar o índice e com isso, alterar o valor do objeto array."
      ]
    },
    {
      "cell_type": "code",
      "metadata": {
        "id": "vk7fbSBVxsmF",
        "outputId": "0080a32a-f65f-4f7c-d1e5-0ccf6a138846",
        "colab": {
          "base_uri": "https://localhost:8080/",
          "height": 34
        }
      },
      "source": [
        "obj[0] = 50\n",
        "obj\n",
        "\n",
        "##veja que o elemento 0, que anteriormente valia 10, agora vale 50."
      ],
      "execution_count": null,
      "outputs": [
        {
          "output_type": "execute_result",
          "data": {
            "text/plain": [
              "array([50, 20, 30, 40, 50, 60, 70, 80])"
            ]
          },
          "metadata": {
            "tags": []
          },
          "execution_count": 9
        }
      ]
    },
    {
      "cell_type": "markdown",
      "metadata": {
        "id": "C2y9yHSKyUDJ"
      },
      "source": [
        "Diferente das listas, arrays não operam apenas em uma única dimensão, vamos trabalhar com uma matriz quadrada 3x3:\n",
        "\n",
        "Devemos prestar atenção aqui (muita atenção), porque um array de dimensão superior é declarado primeiro com um colchete para todos os arrays [], e depois cada array é declarado de forma independente separado por vígula."
      ]
    },
    {
      "cell_type": "markdown",
      "metadata": {
        "id": "9QuN1NWvy-1h"
      },
      "source": [
        "O que diferencia aqui um array de uma dimensão para um 2darray, é que temos dentro do colchete, uma nova variável. [linhas, colunas]"
      ]
    },
    {
      "cell_type": "code",
      "metadata": {
        "id": "oRRfibkNyTT9",
        "outputId": "42d168aa-41c8-4e73-ca33-c4fc0a380140",
        "colab": {
          "base_uri": "https://localhost:8080/",
          "height": 70
        }
      },
      "source": [
        "obj2 = np.array([[1,2,3],[4,5,6],[7,8,9]])\n",
        "obj2"
      ],
      "execution_count": null,
      "outputs": [
        {
          "output_type": "execute_result",
          "data": {
            "text/plain": [
              "array([[1, 2, 3],\n",
              "       [4, 5, 6],\n",
              "       [7, 8, 9]])"
            ]
          },
          "metadata": {
            "tags": []
          },
          "execution_count": 17
        }
      ]
    },
    {
      "cell_type": "code",
      "metadata": {
        "id": "mb4wN7KJy9zv",
        "outputId": "35a2ce2c-237c-48e1-d7cc-914d6810bafc",
        "colab": {
          "base_uri": "https://localhost:8080/",
          "height": 34
        }
      },
      "source": [
        "obj2[0,0]"
      ],
      "execution_count": null,
      "outputs": [
        {
          "output_type": "execute_result",
          "data": {
            "text/plain": [
              "1"
            ]
          },
          "metadata": {
            "tags": []
          },
          "execution_count": 19
        }
      ]
    },
    {
      "cell_type": "markdown",
      "metadata": {
        "id": "lvqqNs0wzNTH"
      },
      "source": [
        "Perceba aqui, que para 'acessar' o valor do objeto de duas dimensões, precisamos exatamente de duas instruções. Simples assim."
      ]
    },
    {
      "cell_type": "code",
      "metadata": {
        "id": "h7aJbydEzMHT",
        "outputId": "b674d9ba-03c8-46b2-c6cc-0feb9ba17bad",
        "colab": {
          "base_uri": "https://localhost:8080/",
          "height": 70
        }
      },
      "source": [
        "obj2[0, 0] = 3\n",
        "obj2"
      ],
      "execution_count": null,
      "outputs": [
        {
          "output_type": "execute_result",
          "data": {
            "text/plain": [
              "array([[3, 2, 3],\n",
              "       [4, 5, 6],\n",
              "       [7, 8, 9]])"
            ]
          },
          "metadata": {
            "tags": []
          },
          "execution_count": 20
        }
      ]
    },
    {
      "cell_type": "markdown",
      "metadata": {
        "id": "ArpJHvrc0G7p"
      },
      "source": [
        "Podemos seccionar um array2d usando dois operadores se subset:"
      ]
    },
    {
      "cell_type": "code",
      "metadata": {
        "id": "ZrPuN0k30QqH",
        "outputId": "459d5ec9-de64-4b0c-d624-6e93bb819678",
        "colab": {
          "base_uri": "https://localhost:8080/",
          "height": 52
        }
      },
      "source": [
        "##Pegamos os dois elementos das linhas e colunas\n",
        "obj2[:2, :2]"
      ],
      "execution_count": null,
      "outputs": [
        {
          "output_type": "execute_result",
          "data": {
            "text/plain": [
              "array([[3, 2],\n",
              "       [4, 5]])"
            ]
          },
          "metadata": {
            "tags": []
          },
          "execution_count": 21
        }
      ]
    }
  ]
}