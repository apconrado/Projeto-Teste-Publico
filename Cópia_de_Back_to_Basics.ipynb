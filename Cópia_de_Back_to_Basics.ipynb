{
  "nbformat": 4,
  "nbformat_minor": 0,
  "metadata": {
    "colab": {
      "name": "Cópia de Back to Basics.ipynb",
      "provenance": [],
      "include_colab_link": true
    },
    "kernelspec": {
      "name": "python3",
      "display_name": "Python 3"
    }
  },
  "cells": [
    {
      "cell_type": "markdown",
      "metadata": {
        "id": "view-in-github",
        "colab_type": "text"
      },
      "source": [
        "<a href=\"https://colab.research.google.com/github/apconrado/Projeto-Teste-Publico/blob/master/C%C3%B3pia_de_Back_to_Basics.ipynb\" target=\"_parent\"><img src=\"https://colab.research.google.com/assets/colab-badge.svg\" alt=\"Open In Colab\"/></a>"
      ]
    },
    {
      "cell_type": "markdown",
      "metadata": {
        "id": "ODUQSCEdnq_1"
      },
      "source": [
        "1. Vamos relembrar aqui, primeiramente, como trabalhamos com objetos do tipo Lista\n",
        "\n",
        "2. listas são declaradas com dois colchetes []"
      ]
    },
    {
      "cell_type": "code",
      "metadata": {
        "id": "4iyy9hLtnSjJ",
        "outputId": "d9ff1184-971a-4e4d-b733-e4b33533a4a9",
        "colab": {
          "base_uri": "https://localhost:8080/",
          "height": 35
        }
      },
      "source": [
        "lista = []\n",
        "print(lista)"
      ],
      "execution_count": null,
      "outputs": [
        {
          "output_type": "stream",
          "text": [
            "[]\n"
          ],
          "name": "stdout"
        }
      ]
    },
    {
      "cell_type": "code",
      "metadata": {
        "id": "nhaW8FvpMgt8",
        "outputId": "222193ec-c0d4-463d-db66-c6510ed8c284",
        "colab": {
          "base_uri": "https://localhost:8080/",
          "height": 35
        }
      },
      "source": [
        "type(lista)"
      ],
      "execution_count": null,
      "outputs": [
        {
          "output_type": "execute_result",
          "data": {
            "text/plain": [
              "list"
            ]
          },
          "metadata": {
            "tags": []
          },
          "execution_count": 119
        }
      ]
    },
    {
      "cell_type": "code",
      "metadata": {
        "id": "Y-voOS_QMp_S"
      },
      "source": [
        "import math as mt\n",
        "import statistics as st"
      ],
      "execution_count": null,
      "outputs": []
    },
    {
      "cell_type": "markdown",
      "metadata": {
        "id": "v347KXHVoaQ6"
      },
      "source": [
        "3. Todo objeto declarado dentro de uma lista, é separado por vírgula"
      ]
    },
    {
      "cell_type": "code",
      "metadata": {
        "id": "TYdtEo8_omf5",
        "outputId": "fce56dce-6c66-4764-af3a-0adc13c54a2f",
        "colab": {
          "base_uri": "https://localhost:8080/",
          "height": 35
        }
      },
      "source": [
        "lista = [10, 20, 30, 40, 50, 60]\n",
        "print(lista)"
      ],
      "execution_count": null,
      "outputs": [
        {
          "output_type": "stream",
          "text": [
            "[10, 20, 30, 40, 50, 60]\n"
          ],
          "name": "stdout"
        }
      ]
    },
    {
      "cell_type": "markdown",
      "metadata": {
        "id": "XsylKW4s2gvb"
      },
      "source": [
        "4. As listas podem ser acessadas por meio do index. Na linguagem Python, todo index começa em 0."
      ]
    },
    {
      "cell_type": "code",
      "metadata": {
        "id": "3upjrPqtotMg",
        "outputId": "2fb5104b-5d73-4f81-d6a7-8d931d20f6d6",
        "colab": {
          "base_uri": "https://localhost:8080/",
          "height": 35
        }
      },
      "source": [
        "lista[0]"
      ],
      "execution_count": null,
      "outputs": [
        {
          "output_type": "execute_result",
          "data": {
            "text/plain": [
              "10"
            ]
          },
          "metadata": {
            "tags": []
          },
          "execution_count": 128
        }
      ]
    },
    {
      "cell_type": "markdown",
      "metadata": {
        "id": "U4nNlRg322fP"
      },
      "source": [
        "5. Um índice negativo pega a última posição da lista, ou seja, se eu usar um valor de -1 para a lista anterior, é o mesmo que acessar a posição 5 (que é a última posição da lista)\n"
      ]
    },
    {
      "cell_type": "code",
      "metadata": {
        "id": "azGM0jSd2tcd",
        "outputId": "a15f06a8-af0a-42a7-a68c-02e29c2a8c4a",
        "colab": {
          "base_uri": "https://localhost:8080/",
          "height": 35
        }
      },
      "source": [
        "lista[5]"
      ],
      "execution_count": null,
      "outputs": [
        {
          "output_type": "execute_result",
          "data": {
            "text/plain": [
              "60"
            ]
          },
          "metadata": {
            "tags": []
          },
          "execution_count": 129
        }
      ]
    },
    {
      "cell_type": "code",
      "metadata": {
        "id": "hDaKDCxE3GQJ",
        "outputId": "205d489d-7415-4d11-bbbc-efb3864b9f21",
        "colab": {
          "base_uri": "https://localhost:8080/",
          "height": 35
        }
      },
      "source": [
        "lista[-1]"
      ],
      "execution_count": null,
      "outputs": [
        {
          "output_type": "execute_result",
          "data": {
            "text/plain": [
              "60"
            ]
          },
          "metadata": {
            "tags": []
          },
          "execution_count": 130
        }
      ]
    },
    {
      "cell_type": "markdown",
      "metadata": {
        "id": "EPMx5vc83RDZ"
      },
      "source": [
        "6. Listas são objetos mutáveis em Python, ou seja, listas podem ser modificadas quando acessadas em sua estrutura interna. Objetos como tuplas, não são mutáveis. Lembrando que quando usamos o sinal de igual, estamos atribuindo valor a algum objeto."
      ]
    },
    {
      "cell_type": "code",
      "metadata": {
        "id": "FNZX8GiE3tUZ",
        "outputId": "614f1d6c-113c-4d92-d8eb-426c8b874bf3",
        "colab": {
          "base_uri": "https://localhost:8080/",
          "height": 35
        }
      },
      "source": [
        "lista[0] = 0\n",
        "print(lista)"
      ],
      "execution_count": null,
      "outputs": [
        {
          "output_type": "stream",
          "text": [
            "[0, 20, 30, 40, 50, 60]\n"
          ],
          "name": "stdout"
        }
      ]
    },
    {
      "cell_type": "code",
      "metadata": {
        "id": "yGcP9zg2PCW4",
        "outputId": "dc6df3f2-708a-43ca-bbc8-c8209c29b80a",
        "colab": {
          "base_uri": "https://localhost:8080/",
          "height": 35
        }
      },
      "source": [
        "lista[:3] "
      ],
      "execution_count": null,
      "outputs": [
        {
          "output_type": "execute_result",
          "data": {
            "text/plain": [
              "[0, 20, 30]"
            ]
          },
          "metadata": {
            "tags": []
          },
          "execution_count": 137
        }
      ]
    },
    {
      "cell_type": "code",
      "metadata": {
        "id": "tlCyf7trOfas"
      },
      "source": [
        "supla = (10, 20) "
      ],
      "execution_count": null,
      "outputs": []
    },
    {
      "cell_type": "code",
      "metadata": {
        "id": "Gali5DP9OkmO",
        "outputId": "4d205fac-5c36-421f-bb5f-c9f9f527e8e7",
        "colab": {
          "base_uri": "https://localhost:8080/",
          "height": 166
        }
      },
      "source": [
        "supla[0] = 0"
      ],
      "execution_count": null,
      "outputs": [
        {
          "output_type": "error",
          "ename": "TypeError",
          "evalue": "ignored",
          "traceback": [
            "\u001b[0;31m---------------------------------------------------------------------------\u001b[0m",
            "\u001b[0;31mTypeError\u001b[0m                                 Traceback (most recent call last)",
            "\u001b[0;32m<ipython-input-138-2eb5886005ba>\u001b[0m in \u001b[0;36m<module>\u001b[0;34m()\u001b[0m\n\u001b[0;32m----> 1\u001b[0;31m \u001b[0msupla\u001b[0m\u001b[0;34m[\u001b[0m\u001b[0;36m0\u001b[0m\u001b[0;34m]\u001b[0m \u001b[0;34m=\u001b[0m \u001b[0;36m0\u001b[0m\u001b[0;34m\u001b[0m\u001b[0;34m\u001b[0m\u001b[0m\n\u001b[0m",
            "\u001b[0;31mTypeError\u001b[0m: 'tuple' object does not support item assignment"
          ]
        }
      ]
    },
    {
      "cell_type": "code",
      "metadata": {
        "id": "qVEwCuyRPqVt",
        "outputId": "645638d8-2502-4bb4-d2e2-cee5f069a239",
        "colab": {
          "base_uri": "https://localhost:8080/",
          "height": 35
        }
      },
      "source": [
        "lista = [10, 20, 30, 40, 50, 60]\n",
        "print(lista)"
      ],
      "execution_count": null,
      "outputs": [
        {
          "output_type": "stream",
          "text": [
            "[10, 20, 30, 40, 50, 60]\n"
          ],
          "name": "stdout"
        }
      ]
    },
    {
      "cell_type": "markdown",
      "metadata": {
        "id": "c12Z9zHs4BPR"
      },
      "source": [
        "7. Listas como objeto de Python possuem algumas propriedades especiais. São acessadas quando se coloca um ponto depois do objeto declarado. Veremos abaixo algumas.\n",
        "\n",
        "8. append: acrescenta um valor novo a lista\n",
        "9. pop: remove o último objeto da lista\n",
        "10. count: conta o numero de determinado elemento da lista\n",
        "11. remove: remove determinado elemento da lista\n",
        "12. copy: copia a lista para outra lista\n",
        "13. reverse: inverte a ordem da lista\n",
        "14. sort: ordena a lista em ordem crescente"
      ]
    },
    {
      "cell_type": "code",
      "metadata": {
        "id": "B_DSubg_4Ab5",
        "outputId": "591c8eb4-a032-4a56-8091-0da881602e4b",
        "colab": {
          "base_uri": "https://localhost:8080/",
          "height": 35
        }
      },
      "source": [
        "lista.append(70)\n",
        "lista.append(80)\n",
        "lista.append([90, 100])\n",
        "lista"
      ],
      "execution_count": null,
      "outputs": [
        {
          "output_type": "execute_result",
          "data": {
            "text/plain": [
              "[10, 20, 30, 40, 50, 60, 70, 70, 80, [90, 100]]"
            ]
          },
          "metadata": {
            "tags": []
          },
          "execution_count": 151
        }
      ]
    },
    {
      "cell_type": "code",
      "metadata": {
        "id": "qxdWrTi1Rsv_",
        "outputId": "0be7cd1f-e001-4cc0-da7b-f1925ff80598",
        "colab": {
          "base_uri": "https://localhost:8080/",
          "height": 35
        }
      },
      "source": [
        "len(lista)"
      ],
      "execution_count": null,
      "outputs": [
        {
          "output_type": "execute_result",
          "data": {
            "text/plain": [
              "10"
            ]
          },
          "metadata": {
            "tags": []
          },
          "execution_count": 152
        }
      ]
    },
    {
      "cell_type": "code",
      "metadata": {
        "id": "cgRxaUAqRyY1",
        "outputId": "d186c22e-c2d7-43f4-e9d5-3a830d4ecd8d",
        "colab": {
          "base_uri": "https://localhost:8080/",
          "height": 35
        }
      },
      "source": [
        "len(lista[9])"
      ],
      "execution_count": null,
      "outputs": [
        {
          "output_type": "execute_result",
          "data": {
            "text/plain": [
              "2"
            ]
          },
          "metadata": {
            "tags": []
          },
          "execution_count": 154
        }
      ]
    },
    {
      "cell_type": "code",
      "metadata": {
        "id": "W7YZbNJGR9zn",
        "outputId": "39cf24f5-eb89-45ac-db4a-b2a593828a01",
        "colab": {
          "base_uri": "https://localhost:8080/",
          "height": 35
        }
      },
      "source": [
        "lista[9][1]"
      ],
      "execution_count": null,
      "outputs": [
        {
          "output_type": "execute_result",
          "data": {
            "text/plain": [
              "100"
            ]
          },
          "metadata": {
            "tags": []
          },
          "execution_count": 155
        }
      ]
    },
    {
      "cell_type": "code",
      "metadata": {
        "id": "YtHGnE5t4x2E",
        "outputId": "f460f4ea-41e2-4d4e-c2e5-0b4333cdc019",
        "colab": {
          "base_uri": "https://localhost:8080/",
          "height": 35
        }
      },
      "source": [
        "lista.pop()\n",
        "lista"
      ],
      "execution_count": null,
      "outputs": [
        {
          "output_type": "execute_result",
          "data": {
            "text/plain": [
              "[10, 20, 30, 40, 50, 60]"
            ]
          },
          "metadata": {
            "tags": []
          },
          "execution_count": 143
        }
      ]
    },
    {
      "cell_type": "code",
      "metadata": {
        "id": "pjq6R-G85AgS",
        "outputId": "e08e8b74-d1bd-4ef1-b641-c38683a34566",
        "colab": {
          "base_uri": "https://localhost:8080/",
          "height": 35
        }
      },
      "source": [
        "lista.append(70)\n",
        "lista.append(70)\n",
        "lista"
      ],
      "execution_count": null,
      "outputs": [
        {
          "output_type": "execute_result",
          "data": {
            "text/plain": [
              "[10, 20, 30, 40, 50, 60, 70, 70]"
            ]
          },
          "metadata": {
            "tags": []
          },
          "execution_count": 144
        }
      ]
    },
    {
      "cell_type": "code",
      "metadata": {
        "id": "x2yd1N1E470-",
        "outputId": "0cbafda2-f513-438c-abab-5b48257987be",
        "colab": {
          "base_uri": "https://localhost:8080/",
          "height": 35
        }
      },
      "source": [
        "lista.count(0)"
      ],
      "execution_count": null,
      "outputs": [
        {
          "output_type": "execute_result",
          "data": {
            "text/plain": [
              "0"
            ]
          },
          "metadata": {
            "tags": []
          },
          "execution_count": 147
        }
      ]
    },
    {
      "cell_type": "code",
      "metadata": {
        "id": "IYJUICmU5R-p",
        "outputId": "3ffa4c75-5832-4130-f6dd-8888af3e7c8e",
        "colab": {
          "base_uri": "https://localhost:8080/",
          "height": 35
        }
      },
      "source": [
        "lista.remove(70)\n",
        "lista"
      ],
      "execution_count": null,
      "outputs": [
        {
          "output_type": "execute_result",
          "data": {
            "text/plain": [
              "[10, 20, 30, 40, 50, 60, 70]"
            ]
          },
          "metadata": {
            "tags": []
          },
          "execution_count": 149
        }
      ]
    },
    {
      "cell_type": "code",
      "metadata": {
        "id": "607n2LjtRTBM",
        "outputId": "f227f27d-ab77-4328-9725-7b793ad6dc28",
        "colab": {
          "base_uri": "https://localhost:8080/",
          "height": 35
        }
      },
      "source": [
        "len(lista)"
      ],
      "execution_count": null,
      "outputs": [
        {
          "output_type": "execute_result",
          "data": {
            "text/plain": [
              "7"
            ]
          },
          "metadata": {
            "tags": []
          },
          "execution_count": 150
        }
      ]
    },
    {
      "cell_type": "code",
      "metadata": {
        "id": "sxxrQzpu59-5",
        "outputId": "ea7f41b4-2251-44cd-8d37-4da994598863",
        "colab": {
          "base_uri": "https://localhost:8080/",
          "height": 35
        }
      },
      "source": [
        "lista2 = lista.copy()\n",
        "lista2"
      ],
      "execution_count": null,
      "outputs": [
        {
          "output_type": "execute_result",
          "data": {
            "text/plain": [
              "[10, 20, 30, 40, 50, 60]"
            ]
          },
          "metadata": {
            "tags": []
          },
          "execution_count": 157
        }
      ]
    },
    {
      "cell_type": "code",
      "metadata": {
        "id": "-oEf_pooShJE",
        "outputId": "384f050b-d7cc-4f0b-f37f-ad0fb21de571",
        "colab": {
          "base_uri": "https://localhost:8080/",
          "height": 35
        }
      },
      "source": [
        "lista3 = lista\n",
        "print(lista3)"
      ],
      "execution_count": null,
      "outputs": [
        {
          "output_type": "stream",
          "text": [
            "[10, 20, 30, 40, 50, 60]\n"
          ],
          "name": "stdout"
        }
      ]
    },
    {
      "cell_type": "code",
      "metadata": {
        "id": "Qu6acWOx6J5C",
        "outputId": "97ebb3d6-7120-4956-c195-ca2e4bf1aece",
        "colab": {
          "base_uri": "https://localhost:8080/",
          "height": 35
        }
      },
      "source": [
        "lista.reverse()\n",
        "lista"
      ],
      "execution_count": null,
      "outputs": [
        {
          "output_type": "execute_result",
          "data": {
            "text/plain": [
              "[10, 20, 30, 40, 50, 60]"
            ]
          },
          "metadata": {
            "tags": []
          },
          "execution_count": 160
        }
      ]
    },
    {
      "cell_type": "code",
      "metadata": {
        "id": "wpGDDSCAS3QR",
        "outputId": "9d2ebab2-00e2-4a64-8372-3aaf6b9cd89e",
        "colab": {
          "base_uri": "https://localhost:8080/",
          "height": 35
        }
      },
      "source": [
        "lista.append(15)\n",
        "lista"
      ],
      "execution_count": null,
      "outputs": [
        {
          "output_type": "execute_result",
          "data": {
            "text/plain": [
              "[10, 20, 30, 40, 50, 60, 15]"
            ]
          },
          "metadata": {
            "tags": []
          },
          "execution_count": 161
        }
      ]
    },
    {
      "cell_type": "code",
      "metadata": {
        "id": "YNlALC7L6Ojd",
        "outputId": "58bdda96-6c97-4134-ec7c-f491bcd24c43",
        "colab": {
          "base_uri": "https://localhost:8080/",
          "height": 35
        }
      },
      "source": [
        "lista.sort()\n",
        "lista"
      ],
      "execution_count": null,
      "outputs": [
        {
          "output_type": "execute_result",
          "data": {
            "text/plain": [
              "[10, 15, 20, 30, 40, 50, 60]"
            ]
          },
          "metadata": {
            "tags": []
          },
          "execution_count": 162
        }
      ]
    },
    {
      "cell_type": "code",
      "metadata": {
        "id": "anZrTFRPTXDD",
        "outputId": "336d34c0-78a9-4b3b-bc11-a7bf8c3d24b5",
        "colab": {
          "base_uri": "https://localhost:8080/",
          "height": 35
        }
      },
      "source": [
        "lista2"
      ],
      "execution_count": null,
      "outputs": [
        {
          "output_type": "execute_result",
          "data": {
            "text/plain": [
              "[10, 20, 30, 40, 50, 60]"
            ]
          },
          "metadata": {
            "tags": []
          },
          "execution_count": 165
        }
      ]
    },
    {
      "cell_type": "markdown",
      "metadata": {
        "id": "5TSnSoXi6fFI"
      },
      "source": [
        "15. Listas podem ser guardadas dentro de listas. O nome disso é processo **nestado**"
      ]
    },
    {
      "cell_type": "code",
      "metadata": {
        "id": "LcRmvrKJ6QXO",
        "outputId": "a226149f-f3c9-480a-f208-d130dd8702cb",
        "colab": {
          "base_uri": "https://localhost:8080/",
          "height": 34
        }
      },
      "source": [
        "lista2 = [[10, 20, 30], 40, 50, 60]\n",
        "lista2"
      ],
      "execution_count": null,
      "outputs": [
        {
          "output_type": "execute_result",
          "data": {
            "text/plain": [
              "[[10, 20, 30], 40, 50, 60]"
            ]
          },
          "metadata": {
            "tags": []
          },
          "execution_count": 16
        }
      ]
    },
    {
      "cell_type": "code",
      "metadata": {
        "id": "ljj0N6uqUOyF",
        "outputId": "180b3bf9-a76f-4524-d02d-e095b049a581",
        "colab": {
          "base_uri": "https://localhost:8080/",
          "height": 35
        }
      },
      "source": [
        "[[1,2], [3,4,[5, [1,2,3, [5,6,7,[10, 100]]]]]]"
      ],
      "execution_count": null,
      "outputs": [
        {
          "output_type": "execute_result",
          "data": {
            "text/plain": [
              "[[1, 2], [3, 4, [5, [1, 2, 3, [5, 6, 7, [10, 100]]]]]]"
            ]
          },
          "metadata": {
            "tags": []
          },
          "execution_count": 166
        }
      ]
    },
    {
      "cell_type": "markdown",
      "metadata": {
        "id": "ff0tI7Lc61jJ"
      },
      "source": [
        "Para acessar um objeto dentro da lista, basta usar um índice duplo, caso a lista for uma sublista."
      ]
    },
    {
      "cell_type": "code",
      "metadata": {
        "id": "JzadHE1X69WG",
        "outputId": "7a2421db-3369-41e0-ba4a-7a65b2022d67",
        "colab": {
          "base_uri": "https://localhost:8080/",
          "height": 34
        }
      },
      "source": [
        "lista2[0]"
      ],
      "execution_count": null,
      "outputs": [
        {
          "output_type": "execute_result",
          "data": {
            "text/plain": [
              "[10, 20, 30]"
            ]
          },
          "metadata": {
            "tags": []
          },
          "execution_count": 17
        }
      ]
    },
    {
      "cell_type": "code",
      "metadata": {
        "id": "WxH8L9fn6_k7",
        "outputId": "3eedf39d-73ca-442e-8097-3fc54ed11c1e",
        "colab": {
          "base_uri": "https://localhost:8080/",
          "height": 34
        }
      },
      "source": [
        "lista2[0][0]"
      ],
      "execution_count": null,
      "outputs": [
        {
          "output_type": "execute_result",
          "data": {
            "text/plain": [
              "10"
            ]
          },
          "metadata": {
            "tags": []
          },
          "execution_count": 18
        }
      ]
    },
    {
      "cell_type": "code",
      "metadata": {
        "id": "A_jTnbRRVZ0H"
      },
      "source": [
        "#sum()\n",
        "#len()\n",
        "#max()\n",
        "#min()\n",
        "#round()"
      ],
      "execution_count": null,
      "outputs": []
    },
    {
      "cell_type": "markdown",
      "metadata": {
        "id": "dM4VmWx77NdL"
      },
      "source": [
        "Exercício Resolvido 1: Vamos implementar aqui a função da estatística descritiva **média**.\n",
        "\n",
        "Para tal, precisamos de duas funções matemáticas do Python que operam com as listas:\n",
        "\n",
        "* **sum**: soma todos os elementos de uma lista\n",
        "\n",
        "* **len**: conta o conjunto de elementos dentro de uma lista\n",
        "\n",
        "\n",
        "\n",
        "---\n",
        "\n",
        "lembrando que a fórmula da média, é a soma de cada elemento xi de uma lista, dividido pelo número total de elementos dentro dessa lista\n",
        "\n",
        "$\\tilde{X} = \\frac{\\sum_{i=1}^n  X_i}{n}$\n",
        "\n",
        "\n",
        "\n",
        "\n",
        "\n"
      ]
    },
    {
      "cell_type": "code",
      "metadata": {
        "id": "RbGFyDhE7Lwo",
        "outputId": "8561c49d-5c15-4b66-e2c2-cc98914093ed",
        "colab": {
          "base_uri": "https://localhost:8080/",
          "height": 34
        }
      },
      "source": [
        "##Etapas\n",
        "##1 definir uma lista qualquer\n",
        "##2 somar essa lista\n",
        "##3 contar numero de elementos\n",
        "##4 calcular a media\n",
        "##5 mostrar na tela\n",
        "\n",
        "lista_media = [10, 15, 30, 45, 60, 90, 100]\n",
        "soma_lista_media = sum(lista_media)\n",
        "media = soma_lista_media/len(lista_media)\n",
        "print(media)"
      ],
      "execution_count": null,
      "outputs": [
        {
          "output_type": "stream",
          "text": [
            "50.0\n"
          ],
          "name": "stdout"
        }
      ]
    },
    {
      "cell_type": "code",
      "metadata": {
        "id": "CsAGWaXyWuri",
        "outputId": "2a550504-9e8b-4152-bce7-1aa1b2bd3f99",
        "colab": {
          "base_uri": "https://localhost:8080/",
          "height": 35
        }
      },
      "source": [
        "##Etapas\n",
        "##1 definir uma lista qualquer\n",
        "##2 somar essa lista\n",
        "##3 contar numero de elementos\n",
        "##4 calcular a media\n",
        "##5 mostrar na tela\n",
        "\n",
        "lista_media = [10, 15, 30, 45, 60, 90, 100]\n",
        "soma_lista_media = sum(lista_media)\n",
        "media = soma_lista_media/len(lista_media)\n",
        "print(media)"
      ],
      "execution_count": null,
      "outputs": [
        {
          "output_type": "stream",
          "text": [
            "50.0\n"
          ],
          "name": "stdout"
        }
      ]
    },
    {
      "cell_type": "markdown",
      "metadata": {
        "id": "Cg5GtHmy8_ud"
      },
      "source": [
        "Experimentem fazer isso na calculadora de vocês para ver se o resultado bate!"
      ]
    },
    {
      "cell_type": "markdown",
      "metadata": {
        "id": "SUnQlj-F9YBj"
      },
      "source": [
        "Exercício Resolvido 2: Construir uma função genérica que calcula qualquer média para qualquer entrada de lista.\n",
        "\n",
        "Para resolver esse exercício precisamos recordar a forma de definir uma função vista no primeiro módulo de Python. É muito simples, basta usar a palavra def antes da função para criar ela. Depois, se insere um argumento na função para servir de entrada e colocar dois pontos.\n",
        "\n",
        "Depois disso, basta colocar as etapas de cálculo, vistas anteriormente.\n"
      ]
    },
    {
      "cell_type": "code",
      "metadata": {
        "id": "WEqYkp1u8_DG"
      },
      "source": [
        "##Etapas\n",
        "\n",
        "def media(x):\n",
        "  result = sum(x)/len(x) ##a lista entra dentro do argumento x, já somamos e dividimos na mesma linha para otimizar o código\n",
        "  return(result) ##o comando return serve para devolver o valor calculado para a memória do computador"
      ],
      "execution_count": null,
      "outputs": []
    },
    {
      "cell_type": "code",
      "metadata": {
        "id": "qdRLdsoFcP02",
        "outputId": "4758128b-5949-4848-8d76-d9d915f90c94",
        "colab": {
          "base_uri": "https://localhost:8080/",
          "height": 35
        }
      },
      "source": [
        "lista2 = [40, 80, 600, 900, 1000]\n",
        "media(lista2)"
      ],
      "execution_count": null,
      "outputs": [
        {
          "output_type": "execute_result",
          "data": {
            "text/plain": [
              "524.0"
            ]
          },
          "metadata": {
            "tags": []
          },
          "execution_count": 173
        }
      ]
    },
    {
      "cell_type": "code",
      "metadata": {
        "id": "IDC-mWLR-Zb3",
        "outputId": "9873067c-2b21-4763-8a03-e8bc91a8ff66",
        "colab": {
          "base_uri": "https://localhost:8080/",
          "height": 34
        }
      },
      "source": [
        "##Vamos checar para saber se o cálculo está correto:\n",
        "media(lista_media)"
      ],
      "execution_count": null,
      "outputs": [
        {
          "output_type": "execute_result",
          "data": {
            "text/plain": [
              "50.0"
            ]
          },
          "metadata": {
            "tags": []
          },
          "execution_count": 21
        }
      ]
    },
    {
      "cell_type": "markdown",
      "metadata": {
        "id": "ZZX-3xE4q-2L"
      },
      "source": [
        "Exercício Resolvido 3: Uma vez em que codificamos a média, ela pode ser usada para calcular a **variância**. A variância pode ser calculada subtraindo cada elemento xi de uma lista, subtraída da média, essa subtração é elevada ao quadrado e depois somada. Depois se divide pela quantidade de elementos -1, que é uma correção da amostra.\n",
        "\n",
        "\n",
        "\n",
        "---\n",
        "\n",
        "$S^2 = \\frac{\\sum_{i=1}^n (X_i - \\tilde{X})^2}{n-1}$\n",
        "\n",
        "\n",
        "\n",
        "---\n",
        "\n",
        "Para a resolução do Exercício, precisamo nos atentar, que a média é presente na equação, então vamos usar ela para guiar o novo cálculo.\n"
      ]
    },
    {
      "cell_type": "code",
      "metadata": {
        "id": "SPByZV6Itb2f",
        "outputId": "dd71dd1e-0211-451c-badc-a7c22cb8479f",
        "colab": {
          "base_uri": "https://localhost:8080/",
          "height": 35
        }
      },
      "source": [
        "##Para cálcular a variância, é um processo bem parecido com a média.\n",
        "##O importante aqui, é vocês se acostumarem em como os dados programados se confundem com estatística, porque eles falam basicamente a mesma língua.\n",
        "\n",
        "##Vejamos um caso aqui, do primeiro elemento da lista média, subtraído da média que calculamos antes\n",
        "lista_media[0] - media(lista_media)"
      ],
      "execution_count": null,
      "outputs": [
        {
          "output_type": "execute_result",
          "data": {
            "text/plain": [
              "-40.0"
            ]
          },
          "metadata": {
            "tags": []
          },
          "execution_count": 174
        }
      ]
    },
    {
      "cell_type": "code",
      "metadata": {
        "id": "U9WWBGIEfO_6"
      },
      "source": [
        "import numpy as np\n",
        "\n",
        "lista_media = np.array(lista_media)"
      ],
      "execution_count": null,
      "outputs": []
    },
    {
      "cell_type": "code",
      "metadata": {
        "id": "q8SG0t04fuk8",
        "outputId": "bdfd5914-3530-4221-f61e-db2df0a26455",
        "colab": {
          "base_uri": "https://localhost:8080/",
          "height": 35
        }
      },
      "source": [
        "type(lista_media)"
      ],
      "execution_count": null,
      "outputs": [
        {
          "output_type": "execute_result",
          "data": {
            "text/plain": [
              "numpy.ndarray"
            ]
          },
          "metadata": {
            "tags": []
          },
          "execution_count": 178
        }
      ]
    },
    {
      "cell_type": "code",
      "metadata": {
        "id": "Z8cJ3t3rf6gZ",
        "outputId": "5bb11fc5-fa6e-4f35-8f1d-3ef62ad2f062",
        "colab": {
          "base_uri": "https://localhost:8080/",
          "height": 35
        }
      },
      "source": [
        "round(sum((lista_media - media(lista_media))**2)/(len(lista_media)-1))"
      ],
      "execution_count": null,
      "outputs": [
        {
          "output_type": "execute_result",
          "data": {
            "text/plain": [
              "1242.0"
            ]
          },
          "metadata": {
            "tags": []
          },
          "execution_count": 187
        }
      ]
    },
    {
      "cell_type": "code",
      "metadata": {
        "id": "4lcZeUqzuuyx",
        "outputId": "7fb943de-837e-4db4-8748-119fde13df51",
        "colab": {
          "base_uri": "https://localhost:8080/",
          "height": 35
        }
      },
      "source": [
        "##Agora vamos generalizar isso na forma de uma lista vetor\n",
        " \n",
        "##Dica, esse procedimento é melhor elaborado se fizermos sob a forma de um array em numpy\n",
        "\n",
        "import numpy as np\n",
        "\n",
        "lista_media = np.array(lista_media)\n",
        "print(lista_media)\n"
      ],
      "execution_count": null,
      "outputs": [
        {
          "output_type": "stream",
          "text": [
            "[ 10  15  30  45  60  90 100]\n"
          ],
          "name": "stdout"
        }
      ]
    },
    {
      "cell_type": "code",
      "metadata": {
        "id": "Jw4E-x-tylal",
        "outputId": "8d08cb83-9018-45f0-de26-4490200b2a22",
        "colab": {
          "base_uri": "https://localhost:8080/",
          "height": 35
        }
      },
      "source": [
        "lista_media - media(lista_media)"
      ],
      "execution_count": null,
      "outputs": [
        {
          "output_type": "execute_result",
          "data": {
            "text/plain": [
              "array([-40., -35., -20.,  -5.,  10.,  40.,  50.])"
            ]
          },
          "metadata": {
            "tags": []
          },
          "execution_count": 189
        }
      ]
    },
    {
      "cell_type": "code",
      "metadata": {
        "id": "kIynhk3KzJVC",
        "outputId": "a1f7239f-0a9d-48ad-fac6-2a70d804ee89",
        "colab": {
          "base_uri": "https://localhost:8080/",
          "height": 35
        }
      },
      "source": [
        "sum((lista_media - media(lista_media))**2)"
      ],
      "execution_count": null,
      "outputs": [
        {
          "output_type": "execute_result",
          "data": {
            "text/plain": [
              "7450.0"
            ]
          },
          "metadata": {
            "tags": []
          },
          "execution_count": 190
        }
      ]
    },
    {
      "cell_type": "markdown",
      "metadata": {
        "id": "CSr7eqB_zRf_"
      },
      "source": [
        "Chequem na cálculadora para ver se o resultado bate!"
      ]
    },
    {
      "cell_type": "code",
      "metadata": {
        "id": "32hkwc6tytVO",
        "outputId": "8300168d-f2a1-4ad4-81d4-c098ac5d4692",
        "colab": {
          "base_uri": "https://localhost:8080/",
          "height": 35
        }
      },
      "source": [
        "##agora fica mais fácil. Vamos somar todos os elementos da lista média e chamar de lista variância e depois dividir pelo número de elementos -1\n",
        "\n",
        "lista_variancia = (lista_media - media(lista_media))**2\n",
        "variancia = sum(lista_variancia)/(len(lista_variancia)-1)\n",
        "variancia = mt.floor(variancia)\n",
        "print(variancia)"
      ],
      "execution_count": null,
      "outputs": [
        {
          "output_type": "stream",
          "text": [
            "1241\n"
          ],
          "name": "stdout"
        }
      ]
    },
    {
      "cell_type": "code",
      "metadata": {
        "id": "PqU4iYhZ0tyq",
        "outputId": "5fb659d6-092b-4b0f-9a24-188e0f6234f3",
        "colab": {
          "base_uri": "https://localhost:8080/",
          "height": 35
        }
      },
      "source": [
        "##Vamos checar se o nosso cálculo bate com o do python!\n",
        "import statistics\n",
        "\n",
        "statistics.variance(lista_media)"
      ],
      "execution_count": null,
      "outputs": [
        {
          "output_type": "execute_result",
          "data": {
            "text/plain": [
              "1241"
            ]
          },
          "metadata": {
            "tags": []
          },
          "execution_count": 192
        }
      ]
    },
    {
      "cell_type": "markdown",
      "metadata": {
        "id": "YvwCCUTzzcRL"
      },
      "source": [
        "Exercício resolvido 4: Generalizar a função da variância para qualquer caso.\n",
        "\n",
        "Bom, sabendo os elementos da função, basta escrever uma função genérica como fizemos antes:"
      ]
    },
    {
      "cell_type": "code",
      "metadata": {
        "id": "uNl_iE_pzpvY"
      },
      "source": [
        "##calculo da variância usando o numpy\n",
        "\n",
        "import numpy as np\n",
        "\n",
        "def variancia(x):\n",
        "  x = np.array(x) ##vamos forçar que qualquer lista que entre dentro da função seja convertida como np array\n",
        "  var = (x - media(x))**2 ## o cálculo que definimos segundo a fórmula\n",
        "  var = sum(var)/(len(x)-1)\n",
        "  var = round(var)\n",
        "  return(var) ##retorna para a memória\n",
        "  #return(x)\n"
      ],
      "execution_count": null,
      "outputs": []
    },
    {
      "cell_type": "code",
      "metadata": {
        "id": "CsZjSVfixJbJ",
        "outputId": "43b9107e-df45-408d-fe65-c571058a2f6b",
        "colab": {
          "base_uri": "https://localhost:8080/",
          "height": 35
        }
      },
      "source": [
        "variancia(x = [1,2,3,4,5])"
      ],
      "execution_count": null,
      "outputs": [
        {
          "output_type": "execute_result",
          "data": {
            "text/plain": [
              "2.0"
            ]
          },
          "metadata": {
            "tags": []
          },
          "execution_count": 201
        }
      ]
    },
    {
      "cell_type": "code",
      "metadata": {
        "id": "6tREUjzO2DmY",
        "outputId": "749b45a6-e9c1-43c5-ee16-f406cb833152",
        "colab": {
          "base_uri": "https://localhost:8080/",
          "height": 35
        }
      },
      "source": [
        "##Vamos experimentar com uma nova lista:\n",
        "\n",
        "variancia([10, 15, 60, 90, 100,115])"
      ],
      "execution_count": null,
      "outputs": [
        {
          "output_type": "execute_result",
          "data": {
            "text/plain": [
              "1980.0"
            ]
          },
          "metadata": {
            "tags": []
          },
          "execution_count": 202
        }
      ]
    },
    {
      "cell_type": "markdown",
      "metadata": {
        "id": "bRusb3zc8j9n"
      },
      "source": [
        "Exercício Resolvido 5: Vamos generalizar a equação da variância para o desvio-padrão, o desvio padrão é simplesmente a raiz quadrada da variância.\n",
        "\n",
        "\n",
        "---\n",
        "\n",
        "$S = \\sqrt{\\frac{\\sum_{i=1}^n (X_i - \\tilde{X})^2}{n-1}}$\n"
      ]
    },
    {
      "cell_type": "code",
      "metadata": {
        "id": "3NXytRtH9Nhk",
        "outputId": "08ade337-4543-4d07-9b8f-eb6eddf2aec3",
        "colab": {
          "base_uri": "https://localhost:8080/",
          "height": 35
        }
      },
      "source": [
        "##Do jeito fácil\n",
        "import math as mt\n",
        "\n",
        "mt.sqrt(variancia(lista_media)) ##importamos a biblioteca matematica, da matemática pegamos a função sqrt (de square root) que é a raiz quadrada"
      ],
      "execution_count": null,
      "outputs": [
        {
          "output_type": "execute_result",
          "data": {
            "text/plain": [
              "35.24202037341219"
            ]
          },
          "metadata": {
            "tags": []
          },
          "execution_count": 203
        }
      ]
    },
    {
      "cell_type": "code",
      "metadata": {
        "id": "1kzkFR1B9dyL"
      },
      "source": [
        "##Do jeito mais fácil\n",
        "import math as mt\n",
        "\n",
        "def desvio_padrao(x): ##basta repetir tudo que fizemos que fica BEM FÁCIL\n",
        "  desvio = variancia(x)\n",
        "  desvio = mt.sqrt(desvio)\n",
        "  return(desvio)\n"
      ],
      "execution_count": null,
      "outputs": []
    },
    {
      "cell_type": "code",
      "metadata": {
        "id": "Q3r6o4P9nsCb",
        "outputId": "e64a92b5-7e9d-48ad-f647-6a696915ef1c",
        "colab": {
          "base_uri": "https://localhost:8080/",
          "height": 35
        }
      },
      "source": [
        "desvio_padrao(lista_media)"
      ],
      "execution_count": null,
      "outputs": [
        {
          "output_type": "execute_result",
          "data": {
            "text/plain": [
              "35.24202037341219"
            ]
          },
          "metadata": {
            "tags": []
          },
          "execution_count": 206
        }
      ]
    },
    {
      "cell_type": "markdown",
      "metadata": {
        "id": "NympevtCbudy"
      },
      "source": [
        "Exercício resolvido 6: Implementação da moda.\n",
        "\n",
        "Moda é uma medida de estatística descritiva que encontra o valor que mais se repete em uma amostra de dados. Podemos implementar a moda de um jeito bem simples, utilizando apenas os conceitos de max (máximo e contagem)"
      ]
    },
    {
      "cell_type": "code",
      "metadata": {
        "id": "L3vgxpnob_M8",
        "outputId": "abf6b247-183a-4e8f-e87d-4c3d12f2a175",
        "colab": {
          "base_uri": "https://localhost:8080/",
          "height": 35
        }
      },
      "source": [
        "lista_moda = [0, 0, 1, 2, 3, 4, 4, 4,4, 5, 10, 12, 16, 16, 16, 16]\n",
        "lista_moda\n",
        "\n",
        "##percebemos aqui, que a moda que mais se repete é o valor 4, se repete três vezes."
      ],
      "execution_count": null,
      "outputs": [
        {
          "output_type": "execute_result",
          "data": {
            "text/plain": [
              "[0, 0, 1, 2, 3, 4, 4, 4, 4, 5, 10, 12, 16, 16, 16, 16]"
            ]
          },
          "metadata": {
            "tags": []
          },
          "execution_count": 211
        }
      ]
    },
    {
      "cell_type": "code",
      "metadata": {
        "id": "6BniLwj9dPB3",
        "outputId": "c2060dac-024c-49f8-c5da-79bafc5d001c",
        "colab": {
          "base_uri": "https://localhost:8080/",
          "height": 35
        }
      },
      "source": [
        "##Podemos contar todos os elementos dentro da lista usando um for\n",
        "[[x,lista_moda.count(x)] for x in set(lista_moda)]"
      ],
      "execution_count": null,
      "outputs": [
        {
          "output_type": "execute_result",
          "data": {
            "text/plain": [
              "[[0, 2], [1, 1], [2, 1], [3, 1], [4, 4], [5, 1], [10, 1], [12, 1], [16, 4]]"
            ]
          },
          "metadata": {
            "tags": []
          },
          "execution_count": 212
        }
      ]
    },
    {
      "cell_type": "code",
      "metadata": {
        "id": "8bX7doffcYrX",
        "outputId": "925bf8d5-154c-4022-f435-3170f23e9c40",
        "colab": {
          "base_uri": "https://localhost:8080/",
          "height": 34
        }
      },
      "source": [
        "##Ou podemos reduzir em uma função usando o argumento max\n",
        "max(lista_moda, key = lista_moda.count)"
      ],
      "execution_count": null,
      "outputs": [
        {
          "output_type": "execute_result",
          "data": {
            "text/plain": [
              "4"
            ]
          },
          "metadata": {
            "tags": []
          },
          "execution_count": 100
        }
      ]
    },
    {
      "cell_type": "code",
      "metadata": {
        "id": "jtfhzO-LebVY"
      },
      "source": [
        "##Agora fica mais fácil, reduzir a função da moda\n",
        "\n",
        "def moda(x):\n",
        "  mod = max(x, key = x.count)\n",
        "  return(mod)"
      ],
      "execution_count": null,
      "outputs": []
    },
    {
      "cell_type": "code",
      "metadata": {
        "id": "sXPZ5H1ZgElC",
        "outputId": "14944fca-702b-48e7-a21b-3e9521b5799b",
        "colab": {
          "base_uri": "https://localhost:8080/",
          "height": 35
        }
      },
      "source": [
        "moda(lista_moda)"
      ],
      "execution_count": null,
      "outputs": [
        {
          "output_type": "execute_result",
          "data": {
            "text/plain": [
              "4"
            ]
          },
          "metadata": {
            "tags": []
          },
          "execution_count": 213
        }
      ]
    },
    {
      "cell_type": "code",
      "metadata": {
        "id": "ZnZP4F6pqz6A",
        "outputId": "959c2f6c-62a6-46dc-f7f9-230979a5c4c8",
        "colab": {
          "base_uri": "https://localhost:8080/",
          "height": 317
        }
      },
      "source": [
        "from matplotlib import pyplot as plt\n",
        "lista_moda = [0, 0, 1, 2, 3, 4, 4, 4,4, 5, 10, 12, 16, 16, 16, 16]\n",
        "lista_moda = np.array(lista_moda)\n",
        "plt.hist(lista_moda)"
      ],
      "execution_count": null,
      "outputs": [
        {
          "output_type": "execute_result",
          "data": {
            "text/plain": [
              "(array([3., 2., 4., 1., 0., 0., 1., 1., 0., 4.]),\n",
              " array([ 0. ,  1.6,  3.2,  4.8,  6.4,  8. ,  9.6, 11.2, 12.8, 14.4, 16. ]),\n",
              " <a list of 10 Patch objects>)"
            ]
          },
          "metadata": {
            "tags": []
          },
          "execution_count": 214
        },
        {
          "output_type": "display_data",
          "data": {
            "image/png": "[encoded data removed]",
            "text/plain": [
              "<Figure size 432x288 with 1 Axes>"
            ]
          },
          "metadata": {
            "tags": [],
            "needs_background": "light"
          }
        }
      ]
    },
    {
      "cell_type": "markdown",
      "metadata": {
        "id": "In02RjWXgKWu"
      },
      "source": [
        ",Exercício 1: A Diretora do Instituto Zass Trass, renomada escola Suiça recebeu a compilação das notas dos alunos do primeiro ano do curso de estatística.\n",
        "\n",
        "As notas dos alunos são definidas da seguinte maneira:\n",
        "\n",
        "6  5  9  8  4  2  8  7  6  5  9  1  5  2  9  1  0  2  8  8  3  5  2  4 10  2  3  7  3  2  7  9  9  6  6  1  6\n",
        "4  8  2  2  5  2  2  2  4  0  1  7  3\n",
        "\n",
        "Usando as funções implementadas até o momento, calcule:\n",
        "\n",
        "\n",
        "\n",
        "1.   A média da distribuição\n",
        "2.   A variância da distribuição\n",
        "3.   O Desvio-Padrão da Distribuição\n",
        "\n",
        "\n",
        "\n"
      ]
    },
    {
      "cell_type": "code",
      "metadata": {
        "id": "twB0ukDDhwCw"
      },
      "source": [
        "##Ex 1:\n",
        "\n",
        "lista_zs = []\n",
        "\n",
        "## 1 média:\n",
        "\n",
        "media_zs = media()\n",
        "\n",
        "## variancia\n",
        "\n",
        "variancia_zs = \n",
        "\n",
        "## Moda\n",
        "\n",
        "moda_zs = \n",
        "\n",
        "## Desvio-Padrão\n",
        "\n",
        "desvio_zs = "
      ],
      "execution_count": null,
      "outputs": []
    },
    {
      "cell_type": "markdown",
      "metadata": {
        "id": "SbERuKfOjLab"
      },
      "source": [
        "Exercício 2: A jornalista Luiza Nazira está estudando o comportamento do número do número de casos de Covid na cidade de Itapipoca (CE). A Série representa o número de contaminados no último mês:\n",
        "\n",
        "179 261 213  87 125  97 113  60 182 250 145 200 179  86 294 238 206 185 228 113 119 245  87 167 203  67 230  97\n",
        "82  93\n",
        "\n",
        "Calcule as estatísticas descritivas de média, variância e desvio-padrão para a requisição da jornalista.\n",
        "\n"
      ]
    },
    {
      "cell_type": "code",
      "metadata": {
        "id": "5-mSjJOen9MD",
        "outputId": "fce94d23-532a-4ab0-8c42-33163b7b446c",
        "colab": {
          "base_uri": "https://localhost:8080/",
          "height": 282
        }
      },
      "source": [
        "## Uma rápida implementação de um gráfico de séries\n",
        "from matplotlib import pyplot as plt\n",
        "\n",
        "lista_nazira = [179, 2,\n",
        "61, 213,  87, 125,  97, 113, 182, 250, 145, 200, 179,  86, 294, 238, 206, 185, 228, 113, 119, 245,  87, 167, 203,  67, 230,  97,\n",
        "82,  93, 185]\n",
        "\n",
        "plt.plot(lista_nazira)\n"
      ],
      "execution_count": null,
      "outputs": [
        {
          "output_type": "execute_result",
          "data": {
            "text/plain": [
              "[<matplotlib.lines.Line2D at 0x7fd912767940>]"
            ]
          },
          "metadata": {
            "tags": []
          },
          "execution_count": 116
        },
        {
          "output_type": "display_data",
          "data": {
            "image/png": "[encoded data removed]",
            "text/plain": [
              "<Figure size 432x288 with 1 Axes>"
            ]
          },
          "metadata": {
            "tags": [],
            "needs_background": "light"
          }
        }
      ]
    },
    {
      "cell_type": "code",
      "metadata": {
        "id": "Qmk0WYjcotMc",
        "outputId": "8562723c-f601-4b01-deec-c6652496c7c4",
        "colab": {
          "base_uri": "https://localhost:8080/",
          "height": 335
        }
      },
      "source": [
        "## Um olho treinado vai chutar que a média da série acima orbita o valor de 150. Será?\n",
        "\n",
        "plt.hist(lista_nazira)\n",
        "\n",
        "##Discutiremos sobre histogramas nas próximas aulas"
      ],
      "execution_count": null,
      "outputs": [
        {
          "output_type": "execute_result",
          "data": {
            "text/plain": [
              "(array([1., 0., 6., 5., 3., 1., 8., 3., 3., 1.]),\n",
              " array([  2. ,  31.2,  60.4,  89.6, 118.8, 148. , 177.2, 206.4, 235.6,\n",
              "        264.8, 294. ]),\n",
              " <a list of 10 Patch objects>)"
            ]
          },
          "metadata": {
            "tags": []
          },
          "execution_count": 117
        },
        {
          "output_type": "display_data",
          "data": {
            "image/png": "[encoded data removed]",
            "text/plain": [
              "<Figure size 432x288 with 1 Axes>"
            ]
          },
          "metadata": {
            "tags": [],
            "needs_background": "light"
          }
        }
      ]
    },
    {
      "cell_type": "code",
      "metadata": {
        "id": "1DG6IlwAnn-t"
      },
      "source": [
        "#Ex. 2\n",
        "\n",
        "lista_nazira = []\n",
        "\n",
        "## Média\n",
        "\n",
        "\n",
        "\n",
        "## Moda\n",
        "\n",
        "\n",
        "\n",
        "## Variância\n",
        "\n",
        "\n",
        "\n",
        "## Desvio-Padrão"
      ],
      "execution_count": null,
      "outputs": []
    },
    {
      "cell_type": "code",
      "metadata": {
        "id": "t9p5reJFC9Gk"
      },
      "source": [
        ""
      ],
      "execution_count": null,
      "outputs": []
    },
    {
      "cell_type": "code",
      "metadata": {
        "id": "GBGv_a80ML1a"
      },
      "source": [
        ""
      ],
      "execution_count": null,
      "outputs": []
    }
  ]
}